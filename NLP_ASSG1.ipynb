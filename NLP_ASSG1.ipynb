{
  "nbformat": 4,
  "nbformat_minor": 0,
  "metadata": {
    "colab": {
      "name": "NLP_ASSG1.ipynb",
      "provenance": [],
      "collapsed_sections": []
    },
    "kernelspec": {
      "name": "python3",
      "display_name": "Python 3"
    },
    "language_info": {
      "name": "python"
    }
  },
  "cells": [
    {
      "cell_type": "code",
      "metadata": {
        "colab": {
          "base_uri": "https://localhost:8080/"
        },
        "id": "MQGpWctgM3u9",
        "outputId": "1c8f876b-a01e-40eb-ff4d-b3f514fc2f4f"
      },
      "source": [
        "#1. Split the above paragraph into sentences \n",
        "#2. Split the above paragraph into words\n",
        "s=\"Are  you  fascinated  by  the  amount  of  text  data  available  on  the  internet?  Are  you looking  for  ways  to  work  with  this  text  data  but  aren’t  sure  where  to  begin? Machines, after all, recognize numbers, not the letters of our language. And that can be a tricky landscape to navigate in machine learning.\"\n",
        "s1=[]\n",
        "x=s.split(\"?\")\n",
        "for i in x:\n",
        "  s1.extend(i.split(\".\"))\n",
        "print(\"sentence\",s1)\n",
        "print(\"Words\",s.split())"
      ],
      "execution_count": 4,
      "outputs": [
        {
          "output_type": "stream",
          "name": "stdout",
          "text": [
            "sentence ['Are  you  fascinated  by  the  amount  of  text  data  available  on  the  internet', '  Are  you looking  for  ways  to  work  with  this  text  data  but  aren’t  sure  where  to  begin', ' Machines, after all, recognize numbers, not the letters of our language', ' And that can be a tricky landscape to navigate in machine learning', '']\n",
            "Words ['Are', 'you', 'fascinated', 'by', 'the', 'amount', 'of', 'text', 'data', 'available', 'on', 'the', 'internet?', 'Are', 'you', 'looking', 'for', 'ways', 'to', 'work', 'with', 'this', 'text', 'data', 'but', 'aren’t', 'sure', 'where', 'to', 'begin?', 'Machines,', 'after', 'all,', 'recognize', 'numbers,', 'not', 'the', 'letters', 'of', 'our', 'language.', 'And', 'that', 'can', 'be', 'a', 'tricky', 'landscape', 'to', 'navigate', 'in', 'machine', 'learning.']\n"
          ]
        }
      ]
    },
    {
      "cell_type": "code",
      "metadata": {
        "colab": {
          "base_uri": "https://localhost:8080/"
        },
        "id": "sA0X1897OgWz",
        "outputId": "1e27f30a-de1c-4ade-fc95-1db62743e191"
      },
      "source": [
        "#3. Find stem and lemma words for the given words?\n",
        "from nltk.stem import PorterStemmer\n",
        "x=[\"cats\", \"trouble\", \"troubling\", \"troubled\", \"having\", \"Corriendo\", \"at\", \"was\"]\n",
        "ps=PorterStemmer()\n",
        "for i in x:\n",
        "    j=ps.stem(i)\n",
        "    print(\"Stem for\",i,\"is\",j)\n",
        "import nltk\n",
        "nltk.download('wordnet')\n",
        "from nltk.stem import WordNetLemmatizer\n",
        "wordnet_lemmatizer = WordNetLemmatizer()\n",
        "for i in x:\n",
        "  print(\"Lemma for\",i,\"is\",wordnet_lemmatizer.lemmatize(i))"
      ],
      "execution_count": 7,
      "outputs": [
        {
          "output_type": "stream",
          "name": "stdout",
          "text": [
            "Stem for cats is cat\n",
            "Stem for trouble is troubl\n",
            "Stem for troubling is troubl\n",
            "Stem for troubled is troubl\n",
            "Stem for having is have\n",
            "Stem for Corriendo is corriendo\n",
            "Stem for at is at\n",
            "Stem for was is wa\n",
            "[nltk_data] Downloading package wordnet to /root/nltk_data...\n",
            "[nltk_data]   Unzipping corpora/wordnet.zip.\n",
            "Lemma for cats is cat\n",
            "Lemma for trouble is trouble\n",
            "Lemma for troubling is troubling\n",
            "Lemma for troubled is troubled\n",
            "Lemma for having is having\n",
            "Lemma for Corriendo is Corriendo\n",
            "Lemma for at is at\n",
            "Lemma for was is wa\n"
          ]
        }
      ]
    },
    {
      "cell_type": "code",
      "metadata": {
        "colab": {
          "base_uri": "https://localhost:8080/"
        },
        "id": "aXJm8fDZP_sM",
        "outputId": "207b6fe9-2661-4ff5-a1e9-67e1b6fd86c8"
      },
      "source": [
        "#4. Find stop words from the given paragraph?\n",
        "st=\"The NLTK library  is  one  of  the  oldest  and  most  commonly  used  Python  libraries  for Natural Language Processing. NLTK supports stop word removal, and you can find the list of stop words in the  corpus  module. To remove stop words from a sentence, you can divide your text into words and then remove the word if it exits in the list of stop words provided by NLTK.\"\n",
        "from nltk.corpus import stopwords\n",
        "from nltk.tokenize import word_tokenize\n",
        "nltk.download('punkt')\n",
        "nltk.download('stopwords')\n",
        "st1=word_tokenize(st)\n",
        "st1=[s.lower() for s in st1] \n",
        "st2=[]\n",
        "for i in st1:\n",
        "  if i in set(stopwords.words(\"english\")):\n",
        "    st2.append(i)\n",
        "print(st2)"
      ],
      "execution_count": 9,
      "outputs": [
        {
          "output_type": "stream",
          "name": "stdout",
          "text": [
            "[nltk_data] Downloading package punkt to /root/nltk_data...\n",
            "[nltk_data]   Package punkt is already up-to-date!\n",
            "[nltk_data] Downloading package stopwords to /root/nltk_data...\n",
            "[nltk_data]   Package stopwords is already up-to-date!\n",
            "['the', 'is', 'of', 'the', 'and', 'most', 'for', 'and', 'you', 'can', 'the', 'of', 'in', 'the', 'to', 'from', 'a', 'you', 'can', 'your', 'into', 'and', 'then', 'the', 'if', 'it', 'in', 'the', 'of', 'by']\n"
          ]
        }
      ]
    },
    {
      "cell_type": "code",
      "metadata": {
        "colab": {
          "base_uri": "https://localhost:8080/"
        },
        "id": "t0GRDBuWRpU8",
        "outputId": "7ad58920-5c80-4a1f-f234-b52a702261ce"
      },
      "source": [
        "#5. From the above paragraph print frequency of each word using NLTK?\n",
        "d={}\n",
        "for i in st1:\n",
        "  d[i]=d.get(i, 0)+1\n",
        "print(d)"
      ],
      "execution_count": 11,
      "outputs": [
        {
          "output_type": "stream",
          "name": "stdout",
          "text": [
            "{'the': 6, 'nltk': 3, 'library': 1, 'is': 1, 'one': 1, 'of': 3, 'oldest': 1, 'and': 3, 'most': 1, 'commonly': 1, 'used': 1, 'python': 1, 'libraries': 1, 'for': 1, 'natural': 1, 'language': 1, 'processing': 1, '.': 3, 'supports': 1, 'stop': 4, 'word': 2, 'removal': 1, ',': 2, 'you': 2, 'can': 2, 'find': 1, 'list': 2, 'words': 4, 'in': 2, 'corpus': 1, 'module': 1, 'to': 1, 'remove': 2, 'from': 1, 'a': 1, 'sentence': 1, 'divide': 1, 'your': 1, 'text': 1, 'into': 1, 'then': 1, 'if': 1, 'it': 1, 'exits': 1, 'provided': 1, 'by': 1}\n"
          ]
        }
      ]
    }
  ]
}